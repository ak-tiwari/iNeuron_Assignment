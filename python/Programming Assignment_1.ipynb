{
 "cells": [
  {
   "cell_type": "markdown",
   "id": "637b47a5",
   "metadata": {},
   "source": [
    "## Programming Assignment_1\n",
    "-------------"
   ]
  },
  {
   "cell_type": "markdown",
   "id": "9c267710",
   "metadata": {},
   "source": [
    "### 1. Write a Python program to print \"Hello Python\"?"
   ]
  },
  {
   "cell_type": "code",
   "execution_count": null,
   "id": "76c24c6b",
   "metadata": {
    "vscode": {
     "languageId": "plaintext"
    }
   },
   "outputs": [],
   "source": [
    "print('Hello World')"
   ]
  },
  {
   "cell_type": "markdown",
   "id": "fc18a6cd",
   "metadata": {},
   "source": [
    "### 2. Write a Python program to do arithmetical operations addition and division.?\n"
   ]
  },
  {
   "cell_type": "markdown",
   "id": "eb28f8f5",
   "metadata": {},
   "source": []
  },
  {
   "cell_type": "code",
   "execution_count": null,
   "id": "4520911d",
   "metadata": {
    "vscode": {
     "languageId": "plaintext"
    }
   },
   "outputs": [],
   "source": [
    "num1 = int(input('enter your first number'))\n",
    "num2 = int(input('enter your second number'))\n",
    "\n",
    "operation = input('Enter the operation you want to perform?')\n",
    "\n",
    "def sum():\n",
    "    a = num1+num2\n",
    "    print(a)\n",
    "\n",
    "def divide():\n",
    "    b = num1/num2\n",
    "    print(b)\n",
    "\n",
    "\n",
    "if (operation=='addition'):\n",
    "    sum()\n",
    "elif(operation=='division'):\n",
    "    divide()\n",
    "else:\n",
    "    print('You have enter wroung operation')"
   ]
  },
  {
   "cell_type": "markdown",
   "id": "970cada7",
   "metadata": {},
   "source": [
    "### 3. Write a Python program to find the area of a triangle?\n"
   ]
  },
  {
   "cell_type": "code",
   "execution_count": null,
   "id": "f74e1ca5",
   "metadata": {
    "vscode": {
     "languageId": "plaintext"
    }
   },
   "outputs": [],
   "source": [
    "height= int(input('enter the hight '))\n",
    "base= int(input('enter the base '))\n",
    "\n",
    "area_of_triangle =1/2 * base * height\n",
    "\n",
    "print(area_of_triangle)"
   ]
  },
  {
   "cell_type": "markdown",
   "id": "b8140061",
   "metadata": {},
   "source": [
    "### 4. Write a Python program to swap two variables?\n"
   ]
  },
  {
   "cell_type": "code",
   "execution_count": null,
   "id": "61ed1e8c",
   "metadata": {
    "vscode": {
     "languageId": "plaintext"
    }
   },
   "outputs": [],
   "source": [
    "a= int(input('enter your number'))\n",
    "b= int(input('enter your number'))\n",
    "\n",
    "def swap(a,b):\n",
    "    c=a\n",
    "    a=b\n",
    "    b=c\n",
    "    print(a,b)\n",
    "    \n",
    "swap(a,b)\n",
    "\n"
   ]
  },
  {
   "cell_type": "markdown",
   "id": "3f8054c1",
   "metadata": {},
   "source": [
    "### 5. Write a Python program to generate a random number?\n"
   ]
  },
  {
   "cell_type": "code",
   "execution_count": null,
   "id": "f25f575c",
   "metadata": {
    "vscode": {
     "languageId": "plaintext"
    }
   },
   "outputs": [],
   "source": [
    "import random\n",
    "\n",
    "min_value = 1\n",
    "max_value = 100\n",
    "\n",
    "def random_func():\n",
    "    random_number = random.randint(min_value, max_value)\n",
    "    print(\"Random number:\", random_number)\n",
    "\n",
    "i = 'Yes'\n",
    "while i =='Yes':\n",
    "    if (i == 'Yes'):\n",
    "        random_func()\n",
    "    i = str(input(\"Do you want to continue? 'Yes' OR 'No' : \"))\n",
    "    \n",
    "print('THANK YOU !')"
   ]
  }
 ],
 "metadata": {
  "kernelspec": {
   "display_name": "Python 3 (ipykernel)",
   "language": "python",
   "name": "python3"
  },
  "language_info": {
   "codemirror_mode": {
    "name": "ipython",
    "version": 3
   },
   "file_extension": ".py",
   "mimetype": "text/x-python",
   "name": "python",
   "nbconvert_exporter": "python",
   "pygments_lexer": "ipython3",
   "version": "3.9.12"
  }
 },
 "nbformat": 4,
 "nbformat_minor": 5
}
